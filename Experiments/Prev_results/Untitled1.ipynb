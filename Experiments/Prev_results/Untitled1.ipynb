{
 "cells": [
  {
   "cell_type": "code",
   "execution_count": null,
   "id": "38730aaa",
   "metadata": {},
   "outputs": [],
   "source": [
    "# Write a Python function to identify unique values in a list and return them as a new list.\n",
    "# 🔎 Write a Python function to reverse a string.\n",
    "# 🔎 Given an array of integers, return indices of the two numbers such that they add up to a specific target.\n",
    "# 🔎 Write a Python function to count the frequency of each character in a string using a dictionary.\n",
    "# 🔎 Write a Python function to find the first non-repeating character in a string and return its index.\n",
    "# 🔎 Write a Python function to reverse the digits of an integer.\n",
    "# 🔎 Write a Python function to check if a string is a palindrome.\n",
    "# 🔎 Write a Python function to remove duplicates from a list while maintaining the original order.\n",
    "# 🔎 Write a Python function to generate the Fibonacci sequence up to `n` terms.\n",
    "# 🔎 Write a Python function to find common elements between two lists."
   ]
  },
  {
   "cell_type": "code",
   "execution_count": null,
   "id": "a1cbba6b",
   "metadata": {},
   "outputs": [],
   "source": [
    "# Write a Python function to identify unique values in a list and return them as a new list.\n",
    "def indentify_unique_value(list):\n",
    "    unique_val_list = []\n",
    "    \n",
    "    unique_val = set(list)\n",
    "    unique_val_list.append(unique_val)\n",
    "    \n",
    "    return unique_val\n",
    "    \n",
    "\n",
    "list = [1,1,2,3,4,4,5,6,6,7,8,8]\n",
    "\n",
    "indentify_unique_value(list)"
   ]
  },
  {
   "cell_type": "code",
   "execution_count": null,
   "id": "5e893e63",
   "metadata": {},
   "outputs": [],
   "source": [
    "#without using set()\n",
    "def indentify_unique_value(list):\n",
    "    unique_val_list = []\n",
    "    \n",
    "    for value in list:\n",
    "        if value not in unique_val_list:\n",
    "            unique_val_list.append(value)\n",
    "    return unique_val_list\n",
    "\n",
    "list = [1,1,2,3,4,4,5,6,6,7,8,8]\n",
    "\n",
    "indentify_unique_value(list)\n",
    "            "
   ]
  },
  {
   "cell_type": "code",
   "execution_count": null,
   "id": "141359fc",
   "metadata": {},
   "outputs": [],
   "source": [
    "# Write a Python function to reverse a string.\n",
    "def reverse_string(input_string):\n",
    "    reverse_str = input_string[::-1]\n",
    "    \n",
    "    return reverse_str\n",
    "\n",
    "input_string = \"Fatima\"\n",
    "reverse_string(input_string)\n",
    "\n"
   ]
  },
  {
   "cell_type": "code",
   "execution_count": 4,
   "id": "0296a345",
   "metadata": {},
   "outputs": [
    {
     "name": "stdout",
     "output_type": "stream",
     "text": [
      "amitaF\n"
     ]
    }
   ],
   "source": [
    "# Write a Python function to reverse a string without buitin function\n",
    "def reverse_string(input_string):\n",
    "    reverse_str = \"\"\n",
    "    \n",
    "    for char in input_string:\n",
    "        reverse_str = char + reverse_str\n",
    "        \n",
    "    return reverse_str\n",
    "    \n",
    "input_string = \"Fatima\"\n",
    "print(reverse_string(input_string))\n",
    "\n"
   ]
  },
  {
   "cell_type": "code",
   "execution_count": null,
   "id": "fc1790da",
   "metadata": {},
   "outputs": [],
   "source": [
    "#  Given an array of integers, return indices of the two numbers such that they add up to a specific target.\n",
    "def indices_twonumber(array_number):\n",
    "    indices_two = []\n",
    "    return indices_two\n",
    "\n",
    "\n",
    "array_number = [1,2,3,5,6,8]\n",
    "print(indices_twonumber(array_number))"
   ]
  }
 ],
 "metadata": {
  "kernelspec": {
   "display_name": "Python 3 (ipykernel)",
   "language": "python",
   "name": "python3"
  },
  "language_info": {
   "codemirror_mode": {
    "name": "ipython",
    "version": 3
   },
   "file_extension": ".py",
   "mimetype": "text/x-python",
   "name": "python",
   "nbconvert_exporter": "python",
   "pygments_lexer": "ipython3",
   "version": "3.7.10"
  }
 },
 "nbformat": 4,
 "nbformat_minor": 5
}
