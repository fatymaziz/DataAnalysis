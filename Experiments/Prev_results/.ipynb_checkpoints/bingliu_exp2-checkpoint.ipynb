{
 "cells": [
  {
   "cell_type": "code",
   "execution_count": 18,
   "id": "001b65ed",
   "metadata": {},
   "outputs": [],
   "source": [
    "import pandas as pd\n",
    "from nltk.tokenize import word_tokenize\n",
    "\n",
    "# Load positive and negative words\n",
    "with open('positive-words.txt', 'r') as f:\n",
    "    positive_words = set(f.read().splitlines())\n",
    "\n",
    "with open('negative-words.txt', 'r') as f:\n",
    "    negative_words = set(f.read().splitlines())\n",
    "\n",
    "# # Example dataset\n",
    "# data = [\n",
    "#     \"Application crashes on startup consistently.\",\n",
    "#     \"The user interface is excellent and works smoothly.\"\n",
    "# ]\n",
    "df = pd.read_csv('bugs_Calendar.csv')\n",
    "bugs_df =  df.head(1000)\n"
   ]
  },
  {
   "cell_type": "code",
   "execution_count": 19,
   "id": "7d8df555",
   "metadata": {},
   "outputs": [],
   "source": [
    "\n",
    "bugs_df = bugs_df[bugs_df[\"Severity\"].str.contains(\"--\")==False].reset_index()\n",
    "\n",
    "#Dropped rows with Type \"Enhancement\" and \"Task\" because they are not a bug but a new feature\n",
    "indexSevere = bugs_df[ (bugs_df['Type'] == 'enhancement') & (bugs_df['Type'] == 'enhancement') ].index\n",
    "bugs_df.drop(indexSevere , inplace=True)\n",
    "\n",
    "indexSevere = bugs_df[ (bugs_df['Type'] == 'task') & (bugs_df['Type'] == 'task') ].index\n",
    "bugs_df.drop(indexSevere , inplace=True)\n",
    "\n",
    "\n",
    "#Catagorise the severity level into a Severe and Non Severe to make it a binary problem\n",
    "bugs_df.loc[bugs_df[\"Severity\"] == \"blocker\", \"Severity\"] = 'Severe'\n",
    "bugs_df.loc[bugs_df[\"Severity\"] == \"critical\", \"Severity\"] = 'Severe'\n",
    "bugs_df.loc[bugs_df[\"Severity\"] == \"major\", \"Severity\"] = 'Severe'\n",
    "bugs_df.loc[bugs_df[\"Severity\"] == \"S1\", \"Severity\"] = 'Severe'\n",
    "bugs_df.loc[bugs_df[\"Severity\"] == \"S2\", \"Severity\"] = 'Severe'\n",
    "bugs_df.loc[bugs_df[\"Severity\"] == \"S3\", \"Severity\"] = 'NonSevere'\n",
    "bugs_df.loc[bugs_df[\"Severity\"] == \"normal\", \"Severity\"] = 'NonSevere'\n",
    "bugs_df.loc[bugs_df[\"Severity\"] == \"minor\", \"Severity\"] = 'NonSevere'\n",
    "bugs_df.loc[bugs_df[\"Severity\"] == \"trivial\", \"Severity\"] = 'NonSevere'\n",
    "bugs_df.loc[bugs_df[\"Severity\"] == \"S4\", \"Severity\"] = 'NonSevere'"
   ]
  },
  {
   "cell_type": "code",
   "execution_count": 20,
   "id": "a7a0b14f",
   "metadata": {},
   "outputs": [],
   "source": [
    "def classifier(Summary, severedictionary_list, nonseveredictionary_list):\n",
    "    \"\"\"\n",
    "    Classify a data item as severe or nonsevere from validation and test dataset\n",
    "\n",
    "    Args:\n",
    "        Summary: textual data from summary column from a validation and test dataset\n",
    "        severedictionary_list: severe dictionary having words that falls in severe category\n",
    "        nonseveredictionary_list: nonsevere dictionary having words that falls in severe category\n",
    "      \n",
    "    Returns: Tags as severe and nonsevere\n",
    "    \"\"\"\n",
    "  \n",
    "    summaryList = Summary.split()\n",
    "    mytest_severe = len(set(severedictionary_list).intersection(summaryList))\n",
    "    mytest_nonsevere = len(set(nonseveredictionary_list).intersection(summaryList))\n",
    "    \n",
    "    severe_words = set(severedictionary_list).intersection(summaryList)\n",
    "    nonsevere_words = set(nonseveredictionary_list).intersection(summaryList)\n",
    "    \n",
    "    print(\"mytest_severe\", severe_words)\n",
    "    print(\"mytest_nonsevere\", mytest_nonsevere)\n",
    "    \n",
    "    if mytest_severe > mytest_nonsevere:\n",
    "        tag = \"Severe\"\n",
    "    elif mytest_severe < mytest_nonsevere:\n",
    "        tag = \"NonSevere\"\n",
    "    elif mytest_severe == 0 and mytest_nonsevere == 0:\n",
    "        tag = \"Neutral\"  # You can define zero_equal() function if needed\n",
    "    elif mytest_severe == mytest_nonsevere:\n",
    "        tag = \"Neutral\"  # You can define nonzero_equal() function if needed\n",
    "    else:\n",
    "        tag = \"Neutral_WithSomethingElse\"\n",
    "        \n",
    "    return tag\n"
   ]
  },
  {
   "cell_type": "code",
   "execution_count": 21,
   "id": "be791a03",
   "metadata": {},
   "outputs": [
    {
     "name": "stdout",
     "output_type": "stream",
     "text": [
      "mytest_nonsevere {'crashes'}\n",
      "mytest_nonsevere 0\n",
      "Bug severity: Application crashes on startup consistently. -> Severe\n",
      "mytest_nonsevere set()\n",
      "mytest_nonsevere 2\n",
      "Bug severity: The user interface is excellent and works smoothly. -> NonSevere\n"
     ]
    }
   ],
   "source": [
    "# Example usage\n",
    "for summary in data:\n",
    "    tag = classifier(summary,negative_words, positive_words)\n",
    "    print(f\"Bug severity: {summary} -> {tag}\")\n"
   ]
  },
  {
   "cell_type": "code",
   "execution_count": 13,
   "id": "152d1fa9",
   "metadata": {},
   "outputs": [],
   "source": [
    "def zero_equal():\n",
    "    # Define your logic for zero matches\n",
    "    return \"Neutral\"\n",
    "\n",
    "def nonzero_equal(summaryList, severedictionary_list, nonseveredictionary_list):\n",
    "    # Define your logic for ties\n",
    "    return \"Neutral\"\n"
   ]
  },
  {
   "cell_type": "code",
   "execution_count": null,
   "id": "7b7fe3d9",
   "metadata": {},
   "outputs": [],
   "source": []
  },
  {
   "cell_type": "code",
   "execution_count": null,
   "id": "deb68690",
   "metadata": {},
   "outputs": [],
   "source": []
  },
  {
   "cell_type": "code",
   "execution_count": null,
   "id": "4f777d03",
   "metadata": {},
   "outputs": [],
   "source": []
  },
  {
   "cell_type": "code",
   "execution_count": null,
   "id": "c6e8d614",
   "metadata": {},
   "outputs": [],
   "source": []
  }
 ],
 "metadata": {
  "kernelspec": {
   "display_name": "Python 3 (ipykernel)",
   "language": "python",
   "name": "python3"
  },
  "language_info": {
   "codemirror_mode": {
    "name": "ipython",
    "version": 3
   },
   "file_extension": ".py",
   "mimetype": "text/x-python",
   "name": "python",
   "nbconvert_exporter": "python",
   "pygments_lexer": "ipython3",
   "version": "3.7.10"
  }
 },
 "nbformat": 4,
 "nbformat_minor": 5
}
