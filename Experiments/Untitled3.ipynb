{
 "cells": [
  {
   "cell_type": "code",
   "execution_count": null,
   "id": "1c9f799c-f5b2-4fda-bfeb-03d5a33988f3",
   "metadata": {},
   "outputs": [],
   "source": []
  }
 ],
 "metadata": {
  "kernelspec": {
   "display_name": "",
   "name": ""
  },
  "language_info": {
   "name": ""
  }
 },
 "nbformat": 4,
 "nbformat_minor": 5
}
