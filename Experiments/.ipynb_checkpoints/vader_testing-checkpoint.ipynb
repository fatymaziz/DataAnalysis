{
 "cells": [
  {
   "cell_type": "code",
   "execution_count": 1,
   "id": "c197d1a9",
   "metadata": {},
   "outputs": [
    {
     "name": "stderr",
     "output_type": "stream",
     "text": [
      "[nltk_data] Downloading package vader_lexicon to\n",
      "[nltk_data]     /Users/abyte/nltk_data...\n",
      "[nltk_data]   Package vader_lexicon is already up-to-date!\n"
     ]
    }
   ],
   "source": [
    "# from vaderSentiment.vaderSentiment import SentimentIntensityAnalyzer\n",
    "from sklearn.metrics import confusion_matrix, precision_score, recall_score, accuracy_score, f1_score\n",
    "import pandas as pd\n",
    "import nltk\n",
    "nltk.download('vader_lexicon')\n",
    "from nltk.sentiment.vader import SentimentIntensityAnalyzer"
   ]
  },
  {
   "cell_type": "code",
   "execution_count": 2,
   "id": "09d562d1",
   "metadata": {},
   "outputs": [],
   "source": [
    "# Initialize VADER sentiment analyzer\n",
    "analyzer = SentimentIntensityAnalyzer()\n"
   ]
  },
  {
   "cell_type": "code",
   "execution_count": 3,
   "id": "a8a90460",
   "metadata": {},
   "outputs": [],
   "source": [
    "bugs_firefox= pd.read_csv(\"bugs_firefox.csv\")\n",
    "bugs_calendar= pd.read_csv(\"bugs_Calendar.csv\")\n",
    "\n",
    "\n",
    "bugs_df = pd.concat([bugs_firefox,bugs_calendar])\n",
    "\n",
    "# Dropped rows with severity level '--'\n",
    "bugs_df = bugs_df[bugs_df[\"Severity\"].str.contains(\"--\")==False].reset_index()\n",
    "\n",
    "#Dropped rows with Type \"Enhancement\" and \"Task\" because they are not a bug but a new feature\n",
    "indexSevere = bugs_df[ (bugs_df['Type'] == 'enhancement') & (bugs_df['Type'] == 'enhancement') ].index\n",
    "bugs_df.drop(indexSevere , inplace=True)\n",
    "\n",
    "indexSevere = bugs_df[ (bugs_df['Type'] == 'task') & (bugs_df['Type'] == 'task') ].index\n",
    "bugs_df.drop(indexSevere , inplace=True)\n",
    "\n",
    "\n",
    "#Catagorise the severity level into a Severe and Non Severe to make it a binary problem\n",
    "bugs_df.loc[bugs_df[\"Severity\"] == \"blocker\", \"Severity\"] = 'Severe'\n",
    "bugs_df.loc[bugs_df[\"Severity\"] == \"critical\", \"Severity\"] = 'Severe'\n",
    "bugs_df.loc[bugs_df[\"Severity\"] == \"major\", \"Severity\"] = 'Severe'\n",
    "bugs_df.loc[bugs_df[\"Severity\"] == \"S1\", \"Severity\"] = 'Severe'\n",
    "bugs_df.loc[bugs_df[\"Severity\"] == \"S2\", \"Severity\"] = 'Severe'\n",
    "bugs_df.loc[bugs_df[\"Severity\"] == \"S3\", \"Severity\"] = 'NonSevere'\n",
    "bugs_df.loc[bugs_df[\"Severity\"] == \"normal\", \"Severity\"] = 'NonSevere'\n",
    "bugs_df.loc[bugs_df[\"Severity\"] == \"minor\", \"Severity\"] = 'NonSevere'\n",
    "bugs_df.loc[bugs_df[\"Severity\"] == \"trivial\", \"Severity\"] = 'NonSevere'\n",
    "bugs_df.loc[bugs_df[\"Severity\"] == \"S4\", \"Severity\"] = 'NonSevere'"
   ]
  },
  {
   "cell_type": "code",
   "execution_count": 11,
   "id": "eb26fa4b",
   "metadata": {},
   "outputs": [
    {
     "data": {
      "text/html": [
       "<div>\n",
       "<style scoped>\n",
       "    .dataframe tbody tr th:only-of-type {\n",
       "        vertical-align: middle;\n",
       "    }\n",
       "\n",
       "    .dataframe tbody tr th {\n",
       "        vertical-align: top;\n",
       "    }\n",
       "\n",
       "    .dataframe thead th {\n",
       "        text-align: right;\n",
       "    }\n",
       "</style>\n",
       "<table border=\"1\" class=\"dataframe\">\n",
       "  <thead>\n",
       "    <tr style=\"text-align: right;\">\n",
       "      <th></th>\n",
       "      <th>index</th>\n",
       "      <th>Bug ID</th>\n",
       "      <th>Product</th>\n",
       "      <th>Component</th>\n",
       "      <th>Assignee</th>\n",
       "      <th>Status</th>\n",
       "      <th>Resolution</th>\n",
       "      <th>Summary</th>\n",
       "      <th>Change Request</th>\n",
       "      <th>Priority</th>\n",
       "      <th>Severity</th>\n",
       "      <th>Type</th>\n",
       "    </tr>\n",
       "  </thead>\n",
       "  <tbody>\n",
       "    <tr>\n",
       "      <th>0</th>\n",
       "      <td>0</td>\n",
       "      <td>1653320</td>\n",
       "      <td>Firefox</td>\n",
       "      <td>Site Permissions</td>\n",
       "      <td>mconley@mozilla.com</td>\n",
       "      <td>UNCONFIRMED</td>\n",
       "      <td>---</td>\n",
       "      <td>Global sharing indicator blocks access to menu...</td>\n",
       "      <td>---</td>\n",
       "      <td>P2</td>\n",
       "      <td>NonSevere</td>\n",
       "      <td>defect</td>\n",
       "    </tr>\n",
       "    <tr>\n",
       "      <th>1</th>\n",
       "      <td>1</td>\n",
       "      <td>1355978</td>\n",
       "      <td>Firefox</td>\n",
       "      <td>Tabbed Browser</td>\n",
       "      <td>nobody@mozilla.org</td>\n",
       "      <td>UNCONFIRMED</td>\n",
       "      <td>---</td>\n",
       "      <td>show tab favicons immediately</td>\n",
       "      <td>---</td>\n",
       "      <td>P2</td>\n",
       "      <td>NonSevere</td>\n",
       "      <td>defect</td>\n",
       "    </tr>\n",
       "    <tr>\n",
       "      <th>2</th>\n",
       "      <td>2</td>\n",
       "      <td>1404034</td>\n",
       "      <td>Firefox</td>\n",
       "      <td>Theme</td>\n",
       "      <td>nobody@mozilla.org</td>\n",
       "      <td>UNCONFIRMED</td>\n",
       "      <td>---</td>\n",
       "      <td>Icon looks pixelated on gnome3</td>\n",
       "      <td>---</td>\n",
       "      <td>P2</td>\n",
       "      <td>NonSevere</td>\n",
       "      <td>defect</td>\n",
       "    </tr>\n",
       "    <tr>\n",
       "      <th>3</th>\n",
       "      <td>3</td>\n",
       "      <td>1404295</td>\n",
       "      <td>Firefox</td>\n",
       "      <td>Shell Integration</td>\n",
       "      <td>nobody@mozilla.org</td>\n",
       "      <td>UNCONFIRMED</td>\n",
       "      <td>---</td>\n",
       "      <td>Firefox developer edition - default browser issue</td>\n",
       "      <td>---</td>\n",
       "      <td>P2</td>\n",
       "      <td>NonSevere</td>\n",
       "      <td>defect</td>\n",
       "    </tr>\n",
       "    <tr>\n",
       "      <th>4</th>\n",
       "      <td>4</td>\n",
       "      <td>1405504</td>\n",
       "      <td>Firefox</td>\n",
       "      <td>Tabbed Browser</td>\n",
       "      <td>nobody@mozilla.org</td>\n",
       "      <td>UNCONFIRMED</td>\n",
       "      <td>---</td>\n",
       "      <td>Can no longer scroll the tab bar using touch o...</td>\n",
       "      <td>---</td>\n",
       "      <td>P2</td>\n",
       "      <td>NonSevere</td>\n",
       "      <td>defect</td>\n",
       "    </tr>\n",
       "  </tbody>\n",
       "</table>\n",
       "</div>"
      ],
      "text/plain": [
       "   index   Bug ID  Product          Component             Assignee  \\\n",
       "0      0  1653320  Firefox   Site Permissions  mconley@mozilla.com   \n",
       "1      1  1355978  Firefox     Tabbed Browser   nobody@mozilla.org   \n",
       "2      2  1404034  Firefox              Theme   nobody@mozilla.org   \n",
       "3      3  1404295  Firefox  Shell Integration   nobody@mozilla.org   \n",
       "4      4  1405504  Firefox     Tabbed Browser   nobody@mozilla.org   \n",
       "\n",
       "        Status Resolution                                            Summary  \\\n",
       "0  UNCONFIRMED        ---  Global sharing indicator blocks access to menu...   \n",
       "1  UNCONFIRMED        ---                      show tab favicons immediately   \n",
       "2  UNCONFIRMED        ---                     Icon looks pixelated on gnome3   \n",
       "3  UNCONFIRMED        ---  Firefox developer edition - default browser issue   \n",
       "4  UNCONFIRMED        ---  Can no longer scroll the tab bar using touch o...   \n",
       "\n",
       "  Change Request Priority   Severity    Type  \n",
       "0            ---       P2  NonSevere  defect  \n",
       "1            ---       P2  NonSevere  defect  \n",
       "2            ---       P2  NonSevere  defect  \n",
       "3            ---       P2  NonSevere  defect  \n",
       "4            ---       P2  NonSevere  defect  "
      ]
     },
     "execution_count": 11,
     "metadata": {},
     "output_type": "execute_result"
    }
   ],
   "source": [
    "bugs_df = bugs_df.head(10)\n",
    "bugs_df"
   ]
  },
  {
   "cell_type": "code",
   "execution_count": null,
   "id": "ca70872b",
   "metadata": {},
   "outputs": [],
   "source": [
    "import matplotlib.pyplot as plt\n",
    "fig = sns.histplot(bugs_df)\n",
    "fig.set_xlabel(\"Bug ID\")\n",
    "fig.set_title(\"Severity\")\n",
    "plt.show()"
   ]
  },
  {
   "cell_type": "code",
   "execution_count": 5,
   "id": "a0030cb9",
   "metadata": {},
   "outputs": [],
   "source": [
    "texts = bugs_df['Summary']"
   ]
  },
  {
   "cell_type": "code",
   "execution_count": 6,
   "id": "ad84f872",
   "metadata": {},
   "outputs": [
    {
     "data": {
      "text/plain": [
       "0    Global sharing indicator blocks access to menu...\n",
       "1                        show tab favicons immediately\n",
       "2                       Icon looks pixelated on gnome3\n",
       "3    Firefox developer edition - default browser issue\n",
       "4    Can no longer scroll the tab bar using touch o...\n",
       "Name: Summary, dtype: object"
      ]
     },
     "execution_count": 6,
     "metadata": {},
     "output_type": "execute_result"
    }
   ],
   "source": [
    "texts"
   ]
  },
  {
   "cell_type": "code",
   "execution_count": 7,
   "id": "3dac3d2a",
   "metadata": {},
   "outputs": [
    {
     "name": "stdout",
     "output_type": "stream",
     "text": [
      "Global sharing indicator blocks access to menus in macOS\n",
      "{'neg': 0.162, 'neu': 0.598, 'pos': 0.239, 'compound': 0.2263}\n",
      "show tab favicons immediately\n",
      "{'neg': 0.0, 'neu': 1.0, 'pos': 0.0, 'compound': 0.0}\n",
      "Icon looks pixelated on gnome3\n",
      "{'neg': 0.0, 'neu': 1.0, 'pos': 0.0, 'compound': 0.0}\n",
      "Firefox developer edition - default browser issue\n",
      "{'neg': 0.0, 'neu': 1.0, 'pos': 0.0, 'compound': 0.0}\n",
      "Can no longer scroll the tab bar using touch on win 10 and Firefox beta 57.0b5. Touch scrolling works on Firefox 56.\n",
      "{'neg': 0.085, 'neu': 0.769, 'pos': 0.146, 'compound': 0.3818}\n"
     ]
    }
   ],
   "source": [
    "# List of example texts to analyze\n",
    "# texts = [\n",
    "#     \"I love this product! It works great and is very affordable.\",\n",
    "#     \"This product is okay. It gets the job done, but could be better.\",\n",
    "#     \"I hate this product. It doesn't work at all and is a waste of money.\"\n",
    "# ]\n",
    "\n",
    "# Loop through the texts and get the sentiment scores for each one\n",
    "for text in texts:\n",
    "    scores = analyzer.polarity_scores(text)\n",
    "    print(text)\n",
    "    print(scores)"
   ]
  },
  {
   "cell_type": "code",
   "execution_count": null,
   "id": "e9eb46e2",
   "metadata": {},
   "outputs": [],
   "source": []
  },
  {
   "cell_type": "code",
   "execution_count": null,
   "id": "3dda7eb7",
   "metadata": {},
   "outputs": [],
   "source": [
    "\n",
    "# Function to classify sentiment\n",
    "def classify_sentiment(text):\n",
    "    score = analyzer.polarity_scores(text)\n",
    "    if score['compound'] >= 0.05:\n",
    "        return 'positive'\n",
    "    elif score['compound'] <= -0.05:\n",
    "        return 'negative'\n",
    "    else:\n",
    "        return 'neutral'\n",
    "\n"
   ]
  },
  {
   "cell_type": "code",
   "execution_count": null,
   "id": "9c10cb25",
   "metadata": {},
   "outputs": [],
   "source": [
    "# Calculate metrics\n",
    "conf_matrix = confusion_matrix(true_labels, predicted_labels, labels=['positive', 'negative', 'neutral'])\n",
    "precision = precision_score(true_labels, predicted_labels, average='weighted')\n",
    "recall = recall_score(true_labels, predicted_labels, average='weighted')\n",
    "accuracy = accuracy_score(true_labels, predicted_labels)\n",
    "f1 = f1_score(true_labels, predicted_labels, average='weighted')\n"
   ]
  },
  {
   "cell_type": "code",
   "execution_count": null,
   "id": "a76a9228",
   "metadata": {},
   "outputs": [],
   "source": [
    "# Print results\n",
    "print(\"Confusion Matrix:\\n\", conf_matrix)\n",
    "print(\"Precision:\", precision)\n",
    "print(\"Recall:\", recall)\n",
    "print(\"Accuracy:\", accuracy)\n",
    "print(\"F1 Score:\", f1)"
   ]
  },
  {
   "cell_type": "code",
   "execution_count": null,
   "id": "d9a38c2f",
   "metadata": {},
   "outputs": [],
   "source": [
    "# Example data\n",
    "# texts = [\"I love this!\", \"This is terrible.\", \"It's okay, not great.\",\"The page is crashing\"]\n",
    "texts = bugs_df['Summary']\n",
    "true_labels = ['positive', 'negative', 'neutral']\n"
   ]
  },
  {
   "cell_type": "code",
   "execution_count": null,
   "id": "f49098b9",
   "metadata": {},
   "outputs": [],
   "source": []
  },
  {
   "cell_type": "code",
   "execution_count": null,
   "id": "8ef83ef9",
   "metadata": {},
   "outputs": [],
   "source": []
  },
  {
   "cell_type": "code",
   "execution_count": null,
   "id": "ba7bda7d",
   "metadata": {},
   "outputs": [],
   "source": []
  }
 ],
 "metadata": {
  "kernelspec": {
   "display_name": "Python 3 (ipykernel)",
   "language": "python",
   "name": "python3"
  },
  "language_info": {
   "codemirror_mode": {
    "name": "ipython",
    "version": 3
   },
   "file_extension": ".py",
   "mimetype": "text/x-python",
   "name": "python",
   "nbconvert_exporter": "python",
   "pygments_lexer": "ipython3",
   "version": "3.7.10"
  }
 },
 "nbformat": 4,
 "nbformat_minor": 5
}
