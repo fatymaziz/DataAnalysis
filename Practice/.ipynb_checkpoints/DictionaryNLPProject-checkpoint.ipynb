{
 "cells": [
  {
   "cell_type": "code",
   "execution_count": null,
   "id": "ca1d0b05",
   "metadata": {},
   "outputs": [],
   "source": [
    "df = pd.read_csv('data/small_corpus.csv')\n",
    "df['reviews']= df['reviews'].astype(str)\n",
    "ratings = list(df[\"ratings\"])\n",
    "reviews = list(df[\"reviews\"])"
   ]
  }
 ],
 "metadata": {
  "kernelspec": {
   "display_name": "Python 3 (ipykernel)",
   "language": "python",
   "name": "python3"
  },
  "language_info": {
   "codemirror_mode": {
    "name": "ipython",
    "version": 3
   },
   "file_extension": ".py",
   "mimetype": "text/x-python",
   "name": "python",
   "nbconvert_exporter": "python",
   "pygments_lexer": "ipython3",
   "version": "3.7.10"
  }
 },
 "nbformat": 4,
 "nbformat_minor": 5
}
