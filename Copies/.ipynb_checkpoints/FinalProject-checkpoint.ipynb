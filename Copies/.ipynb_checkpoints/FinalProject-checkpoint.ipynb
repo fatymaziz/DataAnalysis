{
 "cells": [
  {
   "cell_type": "code",
   "execution_count": 20,
   "id": "bc18ef0a",
   "metadata": {},
   "outputs": [],
   "source": [
    "import pandas as pd\n",
    "import numpy as np\n",
    "import matplotlib.pyplot as plt\n",
    "import seaborn as sns\n",
    "import plotly.express as px\n",
    "import opendatasets as od"
   ]
  },
  {
   "cell_type": "code",
   "execution_count": 21,
   "id": "b477cb31",
   "metadata": {},
   "outputs": [],
   "source": [
    "bugs_df= pd.read_csv(\"bugs_firefox.csv\")"
   ]
  },
  {
   "cell_type": "code",
   "execution_count": 22,
   "id": "aa343efb",
   "metadata": {},
   "outputs": [],
   "source": [
    "bugs_df = bugs_df[bugs_df[\"Severity\"].str.contains(\"--\")==False].reset_index()"
   ]
  },
  {
   "cell_type": "code",
   "execution_count": 24,
   "id": "d4182d94",
   "metadata": {},
   "outputs": [
    {
     "data": {
      "text/plain": [
       "2052"
      ]
     },
     "execution_count": 24,
     "metadata": {},
     "output_type": "execute_result"
    }
   ],
   "source": [
    "#Dropped rows with Type \"Enhancement\" because they are not a bug but a new feature\n",
    "indexSevere = bugs_df[ (bugs_df['Type'] == 'enhancement') & (bugs_df['Type'] == 'enhancement') ].index\n",
    "bugs_df.drop(indexSevere , inplace=True)\n",
    "bugs_df.head(15)\n",
    "len(indexSevere)"
   ]
  },
  {
   "cell_type": "code",
   "execution_count": 25,
   "id": "ec7ef547",
   "metadata": {},
   "outputs": [
    {
     "data": {
      "text/plain": [
       "290"
      ]
     },
     "execution_count": 25,
     "metadata": {},
     "output_type": "execute_result"
    }
   ],
   "source": [
    "#Dropped rows with Type \"Enhancement\" because they are not a bug but a new feature\n",
    "indexSevere = bugs_df[ (bugs_df['Type'] == 'task') & (bugs_df['Type'] == 'task') ].index\n",
    "bugs_df.drop(indexSevere , inplace=True)\n",
    "bugs_df.head(15)\n",
    "len(indexSevere)"
   ]
  },
  {
   "cell_type": "code",
   "execution_count": 26,
   "id": "b9cadc6e",
   "metadata": {},
   "outputs": [],
   "source": [
    "#Catagorise the severity level into a Severe and Non Severe to make it a binary problem\n",
    "bugs_df.loc[bugs_df[\"Severity\"] == \"blocker\", \"Severity\"] = 'Severe'\n",
    "bugs_df.loc[bugs_df[\"Severity\"] == \"critical\", \"Severity\"] = 'Severe'\n",
    "bugs_df.loc[bugs_df[\"Severity\"] == \"major\", \"Severity\"] = 'Severe'\n",
    "bugs_df.loc[bugs_df[\"Severity\"] == \"S1\", \"Severity\"] = 'Severe'\n",
    "bugs_df.loc[bugs_df[\"Severity\"] == \"S2\", \"Severity\"] = 'Severe'\n",
    "bugs_df.loc[bugs_df[\"Severity\"] == \"S3\", \"Severity\"] = 'NonSevere'\n",
    "bugs_df.loc[bugs_df[\"Severity\"] == \"normal\", \"Severity\"] = 'NonSevere'\n",
    "bugs_df.loc[bugs_df[\"Severity\"] == \"minor\", \"Severity\"] = 'NonSevere'\n",
    "bugs_df.loc[bugs_df[\"Severity\"] == \"trivial\", \"Severity\"] = 'NonSevere'\n",
    "bugs_df.loc[bugs_df[\"Severity\"] == \"S4\", \"Severity\"] = 'NonSevere'"
   ]
  },
  {
   "cell_type": "code",
   "execution_count": 32,
   "id": "4950b012",
   "metadata": {},
   "outputs": [
    {
     "ename": "SyntaxError",
     "evalue": "invalid syntax (1725479779.py, line 9)",
     "output_type": "error",
     "traceback": [
      "\u001b[0;36m  File \u001b[0;32m\"/var/folders/5d/403ycky539l56zh62k4t0x9m0000gn/T/ipykernel_6541/1725479779.py\"\u001b[0;36m, line \u001b[0;32m9\u001b[0m\n\u001b[0;31m    from ipynb.fs.defs.<'BugSeverityPredictionDictionarybased'> import *\u001b[0m\n\u001b[0m                       ^\u001b[0m\n\u001b[0;31mSyntaxError\u001b[0m\u001b[0;31m:\u001b[0m invalid syntax\n"
     ]
    }
   ],
   "source": [
    "for i in range(1,2):\n",
    "    from sklearn.model_selection import train_test_split\n",
    "    import re\n",
    "    import nltk\n",
    "    nltk.download('stopwords')\n",
    "    from nltk.corpus import stopwords\n",
    "    from nltk.stem.porter import PorterStemmer\n",
    "    import collections\n",
    "    from ipynb.fs.defs.<BugSeverityPredictionDictionarybased> import *\n",
    "    \n",
    "    training_data, testing_data = train_test_split(bugs_df, test_size=0.2, random_state=25)\n",
    "    training_data, validation_data = train_test_split(training_data, test_size=0.2, random_state=25)\n",
    "    \n",
    "    training_data_df=training_data.reset_index()\n",
    "    validation_data_df=validation_data.reset_index()\n",
    "    testing_data_df=testing_data.reset_index()\n",
    "    trainingdataset = len(training_data)\n",
    "    trainingdataset\n",
    "    \n",
    "    corpus_trainingdata = []\n",
    "    for i in range(0,trainingdataset):\n",
    "        review = nlpsteps(str(training_data_df['Summary'][i]))\n",
    "        corpus_trainingdata.append(review)\n",
    "        \n",
    "    splittedWords = convert(corpus_trainingdata)\n",
    "    getwordcounts(splittedWords)\n",
    "    splitted_words.keys()\n",
    "    keys = splitted_words_dict.keys()\n",
    "    all_data = {}\n",
    "    for key in keys:\n",
    "        res = get_distribution(key)\n",
    "        if res:\n",
    "            all_data[key] = res\n",
    "    \n",
    "    "
   ]
  },
  {
   "cell_type": "code",
   "execution_count": null,
   "id": "ef4e47e3",
   "metadata": {},
   "outputs": [],
   "source": []
  }
 ],
 "metadata": {
  "kernelspec": {
   "display_name": "Python 3 (ipykernel)",
   "language": "python",
   "name": "python3"
  },
  "language_info": {
   "codemirror_mode": {
    "name": "ipython",
    "version": 3
   },
   "file_extension": ".py",
   "mimetype": "text/x-python",
   "name": "python",
   "nbconvert_exporter": "python",
   "pygments_lexer": "ipython3",
   "version": "3.7.10"
  }
 },
 "nbformat": 4,
 "nbformat_minor": 5
}
